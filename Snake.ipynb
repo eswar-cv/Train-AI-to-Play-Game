{
 "cells": [
  {
   "cell_type": "markdown",
   "id": "8ff7e60e",
   "metadata": {},
   "source": [
    "## Define the game environment"
   ]
  },
  {
   "cell_type": "code",
   "execution_count": 1,
   "id": "fbf7557b",
   "metadata": {},
   "outputs": [],
   "source": [
    "import numpy as np\n",
    "import matplotlib.pyplot as plt\n",
    "from matplotlib import animation\n",
    "from game import *\n",
    "import os\n",
    "import time\n",
    "os.environ[\"CUDA_VISIBLE_DEVICES\"]=\"\"\n",
    "%matplotlib inline"
   ]
  },
  {
   "cell_type": "markdown",
   "id": "85e10f3b",
   "metadata": {},
   "source": [
    "## Testing the environment"
   ]
  },
  {
   "cell_type": "code",
   "execution_count": 2,
   "id": "4037164f",
   "metadata": {},
   "outputs": [
    {
     "name": "stderr",
     "output_type": "stream",
     "text": [
      "c:\\Users\\cvesw\\anaconda3\\lib\\site-packages\\stable_baselines3\\common\\env_checker.py:130: UserWarning: Your observation grid has an unconventional shape (neither an image, nor a 1D vector). We recommend you to flatten the observation to have only a 1D vector or use a custom policy to properly process the data.\n",
      "  warnings.warn(\n"
     ]
    }
   ],
   "source": [
    "#Built in environment check\n",
    "from stable_baselines3.common.env_checker import check_env\n",
    "env = Snake_game()\n",
    "# If the environment doesn't follow the interface, an error will be thrown\n",
    "check_env(env, warn=True)"
   ]
  },
  {
   "cell_type": "markdown",
   "id": "c04f0801",
   "metadata": {},
   "source": [
    "## Monitoring\n",
    "We should set up some monitoring for the training using built-in function of stable-baselines (for more advanced version see TensorBoard) and store the parameters of the best performing model"
   ]
  },
  {
   "cell_type": "code",
   "execution_count": 3,
   "id": "4e574dd0",
   "metadata": {},
   "outputs": [],
   "source": [
    "from stable_baselines3.common.callbacks import BaseCallback\n",
    "class TrainAndLoggingCallback(BaseCallback):\n",
    "\n",
    "    def __init__(self, check_freq, save_path, verbose=1):\n",
    "        super(TrainAndLoggingCallback, self).__init__(verbose)\n",
    "        self.check_freq = check_freq\n",
    "        self.save_path = save_path\n",
    "\n",
    "    def _init_callback(self):\n",
    "        if self.save_path is not None:\n",
    "            os.makedirs(self.save_path, exist_ok=True)\n",
    "\n",
    "    def _on_step(self):\n",
    "        if self.n_calls % self.check_freq == 0:\n",
    "            model_path = os.path.join(self.save_path, '{}_best_model_{}'.format(str(time.time()).split('.')[0], self.n_calls))\n",
    "            self.model.save(model_path)\n",
    "\n",
    "        return True"
   ]
  },
  {
   "cell_type": "code",
   "execution_count": 4,
   "id": "e42108a6",
   "metadata": {},
   "outputs": [],
   "source": [
    "from stable_baselines3.common.monitor import Monitor\n",
    "from stable_baselines3.common.callbacks import EvalCallback\n",
    "import os\n",
    "#Logging\n",
    "# Instantiate the env\n",
    "env = Snake_game()\n",
    "LOG_DIR = './logs_tensorboard/'\n",
    "CHECKPOINT_DIR = './train_checkpoints/'\n",
    "#Callback, this built-in function will periodically evaluate the model and save the best version\n",
    "# eval_callback = EvalCallback(env, best_model_save_path='./log/',\n",
    "#                              log_path='./log/', eval_freq=5000,\n",
    "#                              deterministic=False, render=False)\n",
    "eval_callback = TrainAndLoggingCallback(check_freq=5000, save_path=CHECKPOINT_DIR)"
   ]
  },
  {
   "cell_type": "markdown",
   "id": "c6f49dbc",
   "metadata": {},
   "source": [
    "## Training"
   ]
  },
  {
   "cell_type": "code",
   "execution_count": null,
   "id": "b2b7feff",
   "metadata": {},
   "outputs": [],
   "source": []
  },
  {
   "cell_type": "code",
   "execution_count": 5,
   "id": "71862fd9",
   "metadata": {
    "scrolled": false
   },
   "outputs": [
    {
     "data": {
      "application/vnd.jupyter.widget-view+json": {
       "model_id": "5f3e72e642e84b3eb8410aa74e5d4b7a",
       "version_major": 2,
       "version_minor": 0
      },
      "text/plain": [
       "Output()"
      ]
     },
     "metadata": {},
     "output_type": "display_data"
    },
    {
     "data": {
      "text/html": [
       "<pre style=\"white-space:pre;overflow-x:auto;line-height:normal;font-family:Menlo,'DejaVu Sans Mono',consolas,'Courier New',monospace\"></pre>\n"
      ],
      "text/plain": []
     },
     "metadata": {},
     "output_type": "display_data"
    },
    {
     "data": {
      "text/html": [
       "<pre style=\"white-space:pre;overflow-x:auto;line-height:normal;font-family:Menlo,'DejaVu Sans Mono',consolas,'Courier New',monospace\">\n",
       "</pre>\n"
      ],
      "text/plain": [
       "\n"
      ]
     },
     "metadata": {},
     "output_type": "display_data"
    },
    {
     "name": "stdout",
     "output_type": "stream",
     "text": [
      "Calculation took 0 hr 0 min 24.3915 s\n"
     ]
    }
   ],
   "source": [
    "import time\n",
    "from stable_baselines3 import PPO\n",
    "\n",
    "#Train the agent\n",
    "max_total_step_num = 10 ** 3\n",
    "\n",
    "def learning_rate_schedule(progress_remaining):\n",
    "    start_rate = 0.0005 #0.0003\n",
    "    #Can do more complicated ones like below\n",
    "    #stepnum = max_total_step_num*(1-progress_remaining)\n",
    "    #return 0.003 * np.piecewise(stepnum, [stepnum>=0, stepnum>4e4, stepnum>2e5, stepnum>3e5], [1.0,0.5,0.25,0.125 ])\n",
    "    return start_rate * progress_remaining #linearly decreasing\n",
    "\n",
    "\n",
    "starttime = time.time()\n",
    "\n",
    "model = PPO('MultiInputPolicy', env, learning_rate = learning_rate_schedule, tensorboard_log=LOG_DIR, gamma = 0.99, verbose = 0, ent_coef = 0.0, clip_range = 0.2)\n",
    "#Load previous best model parameters, we start from that\n",
    "if os.path.exists(\"log/best_model.zip\"):\n",
    "    model.set_parameters(\"log/best_model.zip\")\n",
    "model.learn(max_total_step_num,callback=eval_callback, progress_bar = True)\n",
    "dt = time.time()-starttime\n",
    "print(\"Calculation took %g hr %g min %g s\"%(dt//3600, (dt//60)%60, dt%60) )"
   ]
  },
  {
   "cell_type": "markdown",
   "id": "ebc150ad",
   "metadata": {},
   "source": [
    "### Check performance\n",
    "Basic plotting with built-in functions"
   ]
  },
  {
   "cell_type": "code",
   "execution_count": 6,
   "id": "b48dd408",
   "metadata": {},
   "outputs": [
    {
     "ename": "LoadMonitorResultsError",
     "evalue": "No monitor files of the form *monitor.csv found in log",
     "output_type": "error",
     "traceback": [
      "\u001b[1;31m---------------------------------------------------------------------------\u001b[0m",
      "\u001b[1;31mLoadMonitorResultsError\u001b[0m                   Traceback (most recent call last)",
      "\u001b[1;32m~\\AppData\\Local\\Temp/ipykernel_8768/4008803508.py\u001b[0m in \u001b[0;36m<module>\u001b[1;34m\u001b[0m\n\u001b[0;32m      1\u001b[0m \u001b[1;32mfrom\u001b[0m \u001b[0mstable_baselines3\u001b[0m\u001b[1;33m.\u001b[0m\u001b[0mcommon\u001b[0m \u001b[1;32mimport\u001b[0m \u001b[0mresults_plotter\u001b[0m\u001b[1;33m\u001b[0m\u001b[1;33m\u001b[0m\u001b[0m\n\u001b[0;32m      2\u001b[0m \u001b[1;31m# Helper from the library, a bit hard to read but immediately useable\u001b[0m\u001b[1;33m\u001b[0m\u001b[1;33m\u001b[0m\u001b[0m\n\u001b[1;32m----> 3\u001b[1;33m \u001b[0mresults_plotter\u001b[0m\u001b[1;33m.\u001b[0m\u001b[0mplot_results\u001b[0m\u001b[1;33m(\u001b[0m\u001b[1;33m[\u001b[0m\u001b[1;34m\"log\"\u001b[0m\u001b[1;33m]\u001b[0m\u001b[1;33m,\u001b[0m \u001b[1;36m1e7\u001b[0m\u001b[1;33m,\u001b[0m \u001b[0mresults_plotter\u001b[0m\u001b[1;33m.\u001b[0m\u001b[0mX_TIMESTEPS\u001b[0m\u001b[1;33m,\u001b[0m\u001b[1;34m''\u001b[0m\u001b[1;33m)\u001b[0m\u001b[1;33m\u001b[0m\u001b[1;33m\u001b[0m\u001b[0m\n\u001b[0m",
      "\u001b[1;32mc:\\Users\\cvesw\\anaconda3\\lib\\site-packages\\stable_baselines3\\common\\results_plotter.py\u001b[0m in \u001b[0;36mplot_results\u001b[1;34m(dirs, num_timesteps, x_axis, task_name, figsize)\u001b[0m\n\u001b[0;32m    115\u001b[0m     \u001b[0mdata_frames\u001b[0m \u001b[1;33m=\u001b[0m \u001b[1;33m[\u001b[0m\u001b[1;33m]\u001b[0m\u001b[1;33m\u001b[0m\u001b[1;33m\u001b[0m\u001b[0m\n\u001b[0;32m    116\u001b[0m     \u001b[1;32mfor\u001b[0m \u001b[0mfolder\u001b[0m \u001b[1;32min\u001b[0m \u001b[0mdirs\u001b[0m\u001b[1;33m:\u001b[0m\u001b[1;33m\u001b[0m\u001b[1;33m\u001b[0m\u001b[0m\n\u001b[1;32m--> 117\u001b[1;33m         \u001b[0mdata_frame\u001b[0m \u001b[1;33m=\u001b[0m \u001b[0mload_results\u001b[0m\u001b[1;33m(\u001b[0m\u001b[0mfolder\u001b[0m\u001b[1;33m)\u001b[0m\u001b[1;33m\u001b[0m\u001b[1;33m\u001b[0m\u001b[0m\n\u001b[0m\u001b[0;32m    118\u001b[0m         \u001b[1;32mif\u001b[0m \u001b[0mnum_timesteps\u001b[0m \u001b[1;32mis\u001b[0m \u001b[1;32mnot\u001b[0m \u001b[1;32mNone\u001b[0m\u001b[1;33m:\u001b[0m\u001b[1;33m\u001b[0m\u001b[1;33m\u001b[0m\u001b[0m\n\u001b[0;32m    119\u001b[0m             \u001b[0mdata_frame\u001b[0m \u001b[1;33m=\u001b[0m \u001b[0mdata_frame\u001b[0m\u001b[1;33m[\u001b[0m\u001b[0mdata_frame\u001b[0m\u001b[1;33m.\u001b[0m\u001b[0ml\u001b[0m\u001b[1;33m.\u001b[0m\u001b[0mcumsum\u001b[0m\u001b[1;33m(\u001b[0m\u001b[1;33m)\u001b[0m \u001b[1;33m<=\u001b[0m \u001b[0mnum_timesteps\u001b[0m\u001b[1;33m]\u001b[0m\u001b[1;33m\u001b[0m\u001b[1;33m\u001b[0m\u001b[0m\n",
      "\u001b[1;32mc:\\Users\\cvesw\\anaconda3\\lib\\site-packages\\stable_baselines3\\common\\monitor.py\u001b[0m in \u001b[0;36mload_results\u001b[1;34m(path)\u001b[0m\n\u001b[0;32m    237\u001b[0m     \u001b[0mmonitor_files\u001b[0m \u001b[1;33m=\u001b[0m \u001b[0mget_monitor_files\u001b[0m\u001b[1;33m(\u001b[0m\u001b[0mpath\u001b[0m\u001b[1;33m)\u001b[0m\u001b[1;33m\u001b[0m\u001b[1;33m\u001b[0m\u001b[0m\n\u001b[0;32m    238\u001b[0m     \u001b[1;32mif\u001b[0m \u001b[0mlen\u001b[0m\u001b[1;33m(\u001b[0m\u001b[0mmonitor_files\u001b[0m\u001b[1;33m)\u001b[0m \u001b[1;33m==\u001b[0m \u001b[1;36m0\u001b[0m\u001b[1;33m:\u001b[0m\u001b[1;33m\u001b[0m\u001b[1;33m\u001b[0m\u001b[0m\n\u001b[1;32m--> 239\u001b[1;33m         \u001b[1;32mraise\u001b[0m \u001b[0mLoadMonitorResultsError\u001b[0m\u001b[1;33m(\u001b[0m\u001b[1;34mf\"No monitor files of the form *{Monitor.EXT} found in {path}\"\u001b[0m\u001b[1;33m)\u001b[0m\u001b[1;33m\u001b[0m\u001b[1;33m\u001b[0m\u001b[0m\n\u001b[0m\u001b[0;32m    240\u001b[0m     \u001b[0mdata_frames\u001b[0m\u001b[1;33m,\u001b[0m \u001b[0mheaders\u001b[0m \u001b[1;33m=\u001b[0m \u001b[1;33m[\u001b[0m\u001b[1;33m]\u001b[0m\u001b[1;33m,\u001b[0m \u001b[1;33m[\u001b[0m\u001b[1;33m]\u001b[0m\u001b[1;33m\u001b[0m\u001b[1;33m\u001b[0m\u001b[0m\n\u001b[0;32m    241\u001b[0m     \u001b[1;32mfor\u001b[0m \u001b[0mfile_name\u001b[0m \u001b[1;32min\u001b[0m \u001b[0mmonitor_files\u001b[0m\u001b[1;33m:\u001b[0m\u001b[1;33m\u001b[0m\u001b[1;33m\u001b[0m\u001b[0m\n",
      "\u001b[1;31mLoadMonitorResultsError\u001b[0m: No monitor files of the form *monitor.csv found in log"
     ]
    }
   ],
   "source": [
    "from stable_baselines3.common import results_plotter\n",
    "# Helper from the library, a bit hard to read but immediately useable\n",
    "results_plotter.plot_results([\"log\"], 1e7, results_plotter.X_TIMESTEPS,'')"
   ]
  },
  {
   "cell_type": "markdown",
   "id": "0e24304a",
   "metadata": {},
   "source": [
    "Custom plotting"
   ]
  },
  {
   "cell_type": "code",
   "execution_count": 7,
   "id": "ce8d221c",
   "metadata": {},
   "outputs": [
    {
     "ename": "LoadMonitorResultsError",
     "evalue": "No monitor files of the form *monitor.csv found in log",
     "output_type": "error",
     "traceback": [
      "\u001b[1;31m---------------------------------------------------------------------------\u001b[0m",
      "\u001b[1;31mLoadMonitorResultsError\u001b[0m                   Traceback (most recent call last)",
      "\u001b[1;32m~\\AppData\\Local\\Temp/ipykernel_8768/2519030779.py\u001b[0m in \u001b[0;36m<module>\u001b[1;34m\u001b[0m\n\u001b[0;32m     17\u001b[0m \u001b[1;33m\u001b[0m\u001b[0m\n\u001b[0;32m     18\u001b[0m \u001b[1;32mfrom\u001b[0m \u001b[0mstable_baselines3\u001b[0m\u001b[1;33m.\u001b[0m\u001b[0mcommon\u001b[0m\u001b[1;33m.\u001b[0m\u001b[0mmonitor\u001b[0m \u001b[1;32mimport\u001b[0m \u001b[0mload_results\u001b[0m\u001b[1;33m\u001b[0m\u001b[1;33m\u001b[0m\u001b[0m\n\u001b[1;32m---> 19\u001b[1;33m \u001b[0mtrain_step_log\u001b[0m \u001b[1;33m=\u001b[0m \u001b[0mload_results\u001b[0m\u001b[1;33m(\u001b[0m\u001b[1;34m\"log\"\u001b[0m\u001b[1;33m)\u001b[0m\u001b[1;33m\u001b[0m\u001b[1;33m\u001b[0m\u001b[0m\n\u001b[0m\u001b[0;32m     20\u001b[0m \u001b[0mx\u001b[0m \u001b[1;33m=\u001b[0m \u001b[0mnp\u001b[0m\u001b[1;33m.\u001b[0m\u001b[0marray\u001b[0m\u001b[1;33m(\u001b[0m\u001b[0mtrain_step_log\u001b[0m\u001b[1;33m[\u001b[0m\u001b[1;34m\"l\"\u001b[0m\u001b[1;33m]\u001b[0m\u001b[1;33m.\u001b[0m\u001b[0mcumsum\u001b[0m\u001b[1;33m(\u001b[0m\u001b[1;33m)\u001b[0m\u001b[1;33m)\u001b[0m\u001b[1;33m\u001b[0m\u001b[1;33m\u001b[0m\u001b[0m\n\u001b[0;32m     21\u001b[0m \u001b[0my\u001b[0m \u001b[1;33m=\u001b[0m \u001b[0mnp\u001b[0m\u001b[1;33m.\u001b[0m\u001b[0marray\u001b[0m\u001b[1;33m(\u001b[0m\u001b[0mtrain_step_log\u001b[0m\u001b[1;33m[\u001b[0m\u001b[1;34m\"r\"\u001b[0m\u001b[1;33m]\u001b[0m\u001b[1;33m)\u001b[0m\u001b[1;33m\u001b[0m\u001b[1;33m\u001b[0m\u001b[0m\n",
      "\u001b[1;32mc:\\Users\\cvesw\\anaconda3\\lib\\site-packages\\stable_baselines3\\common\\monitor.py\u001b[0m in \u001b[0;36mload_results\u001b[1;34m(path)\u001b[0m\n\u001b[0;32m    237\u001b[0m     \u001b[0mmonitor_files\u001b[0m \u001b[1;33m=\u001b[0m \u001b[0mget_monitor_files\u001b[0m\u001b[1;33m(\u001b[0m\u001b[0mpath\u001b[0m\u001b[1;33m)\u001b[0m\u001b[1;33m\u001b[0m\u001b[1;33m\u001b[0m\u001b[0m\n\u001b[0;32m    238\u001b[0m     \u001b[1;32mif\u001b[0m \u001b[0mlen\u001b[0m\u001b[1;33m(\u001b[0m\u001b[0mmonitor_files\u001b[0m\u001b[1;33m)\u001b[0m \u001b[1;33m==\u001b[0m \u001b[1;36m0\u001b[0m\u001b[1;33m:\u001b[0m\u001b[1;33m\u001b[0m\u001b[1;33m\u001b[0m\u001b[0m\n\u001b[1;32m--> 239\u001b[1;33m         \u001b[1;32mraise\u001b[0m \u001b[0mLoadMonitorResultsError\u001b[0m\u001b[1;33m(\u001b[0m\u001b[1;34mf\"No monitor files of the form *{Monitor.EXT} found in {path}\"\u001b[0m\u001b[1;33m)\u001b[0m\u001b[1;33m\u001b[0m\u001b[1;33m\u001b[0m\u001b[0m\n\u001b[0m\u001b[0;32m    240\u001b[0m     \u001b[0mdata_frames\u001b[0m\u001b[1;33m,\u001b[0m \u001b[0mheaders\u001b[0m \u001b[1;33m=\u001b[0m \u001b[1;33m[\u001b[0m\u001b[1;33m]\u001b[0m\u001b[1;33m,\u001b[0m \u001b[1;33m[\u001b[0m\u001b[1;33m]\u001b[0m\u001b[1;33m\u001b[0m\u001b[1;33m\u001b[0m\u001b[0m\n\u001b[0;32m    241\u001b[0m     \u001b[1;32mfor\u001b[0m \u001b[0mfile_name\u001b[0m \u001b[1;32min\u001b[0m \u001b[0mmonitor_files\u001b[0m\u001b[1;33m:\u001b[0m\u001b[1;33m\u001b[0m\u001b[1;33m\u001b[0m\u001b[0m\n",
      "\u001b[1;31mLoadMonitorResultsError\u001b[0m: No monitor files of the form *monitor.csv found in log"
     ]
    }
   ],
   "source": [
    "#A bit more advanced plotting\n",
    "def adjust_font(lgnd=None, lgnd_handle_size=64, fig=None, ax_fontsize=16, labelfontsize=16,do_ticks=True ):\n",
    "    if not (lgnd is None):\n",
    "        for handle in lgnd.legendHandles:\n",
    "            handle.set_sizes([lgnd_handle_size])\n",
    "    if not (fig is None):\n",
    "        ax_list = fig.axes\n",
    "        for ax1 in ax_list:\n",
    "            ax1.tick_params(axis='both', labelsize=ax_fontsize)\n",
    "            ax1.set_xlabel(ax1.get_xlabel(),fontsize=labelfontsize)\n",
    "            ax1.set_ylabel(ax1.get_ylabel(),fontsize=labelfontsize)\n",
    "            if do_ticks:\n",
    "                ax1.minorticks_on()\n",
    "                ax1.tick_params(axis='both',which='both', direction='in',top=True,right=True)\n",
    "\n",
    "max_possible_reward =env.REWARD_PER_FOOD * np.sum(env.init_grid==env.EMPTY)\n",
    "\n",
    "from stable_baselines3.common.monitor import load_results\n",
    "train_step_log = load_results(\"log\")\n",
    "x = np.array(train_step_log[\"l\"].cumsum())\n",
    "y = np.array(train_step_log[\"r\"])\n",
    "\n",
    "plot_from_step = 0\n",
    "y = y[x>=plot_from_step]; x = x[x>=plot_from_step]\n",
    "\n",
    "fig1, ax1 = plt.subplots(1,1)\n",
    "fig1.set_size_inches(16, 9)\n",
    "\n",
    "max_points_to_plot = 20000\n",
    "index_to_plot = np.linspace(0,len(train_step_log)-1,np.clip(len(train_step_log),None,max_points_to_plot)).astype(int)\n",
    "plt.scatter(x[index_to_plot],y[index_to_plot], alpha=0.3, s=10)\n",
    "\n",
    "x_edges = np.linspace(x.min(),x.max(),num=30)\n",
    "xbins = (x_edges[:-1]+x_edges[1:])/2.0\n",
    "binnumber = np.digitize(x, x_edges) - 1\n",
    "reward50=np.zeros_like(xbins); reward75=np.zeros_like(xbins); reward25=np.zeros_like(xbins); reward_mean=np.zeros_like(xbins)\n",
    "reward_max = np.zeros_like(xbins)\n",
    "for i in range(len(xbins)):\n",
    "    ind=(binnumber==i)\n",
    "    if (np.sum(ind)>0):\n",
    "        reward_mean[i] = np.mean(y[ind])\n",
    "        reward50[i]=np.median(y[ind])\n",
    "        reward25[i]=np.percentile(y[ind],25)\n",
    "        reward75[i]=np.percentile(y[ind],75)\n",
    "        reward_max[i] = np.max(y[ind])\n",
    "\n",
    "plt.plot(xbins,reward_max,c='g',lw=2, label=\"Best\")        \n",
    "plt.plot(xbins,reward_mean,c='r',lw=2, label=\"Mean\")\n",
    "#plt.plot(xbins,reward50,c='k',lw=2, label=\"Median\")\n",
    "#plt.plot(xbins,reward75,'--',c='k',lw=2, label=\"Interquartile range\")\n",
    "#plt.plot(xbins,reward25,'--',c='k',lw=2)\n",
    "if plt.ylim()[1]>0.8*max_possible_reward:\n",
    "    plt.axhline(y=max_possible_reward, c='r', linestyle=':')\n",
    "plt.xlim([0,x.max()])\n",
    "plt.xlabel('Timesteps'); plt.ylabel('Reward')\n",
    "plt.legend(fontsize=16)\n",
    "adjust_font(fig=fig1)\n",
    "plt.savefig(\"snake_rewards.png\",dpi=150, bbox_inches=\"tight\")\n",
    "plt.show()"
   ]
  },
  {
   "cell_type": "markdown",
   "id": "946855e0",
   "metadata": {},
   "source": [
    "## Demonstration\n",
    "Once we have trained a model we can make a movie of it playing the game (which can also be used to see what behaviors it might have problems with that we can correct for in e.g., the reward scheme)"
   ]
  },
  {
   "cell_type": "code",
   "execution_count": null,
   "id": "df6e1056",
   "metadata": {},
   "outputs": [
    {
     "name": "stdout",
     "output_type": "stream",
     "text": [
      "Best model's reward: 51.8 +/- 1.99\n"
     ]
    }
   ],
   "source": [
    "#Load back the best model\n",
    "model.set_parameters(\"log/best_model.zip\")\n",
    "from stable_baselines3.common.evaluation import evaluate_policy\n",
    "# Evaluate the trained model\n",
    "mean_reward, std_reward = evaluate_policy(model, env, n_eval_episodes=20)\n",
    "print(\"Best model's reward: %3.3g +/- %3.3g\"%(mean_reward,std_reward))"
   ]
  },
  {
   "cell_type": "code",
   "execution_count": 8,
   "id": "be1b4a95",
   "metadata": {},
   "outputs": [
    {
     "name": "stdout",
     "output_type": "stream",
     "text": [
      "Step 1 Action:  2 Tot. Reward: -21\n",
      "Game over! tot. reward= -21\n"
     ]
    },
    {
     "data": {
      "image/png": "[encoded data removed]",
      "text/plain": [
       "<Figure size 432x432 with 1 Axes>"
      ]
     },
     "metadata": {
      "needs_background": "light"
     },
     "output_type": "display_data"
    }
   ],
   "source": [
    "# Test the trained agent and save animation\n",
    "obs = env.reset()\n",
    "#Framework to save animgif\n",
    "fig, ax = plt.subplots(figsize=(6,6))\n",
    "plt.axis('off')\n",
    "frames = []\n",
    "fps=18\n",
    "\n",
    "n_steps = 1000\n",
    "tot_reward = 0\n",
    "for step in range(n_steps):\n",
    "    action, _ = model.predict(obs, deterministic=False)\n",
    "    obs, reward, done, info = env.step(action)\n",
    "    tot_reward += reward\n",
    "    print(\"Step {}\".format(step + 1),\"Action: \", action, 'Tot. Reward: %g'%(tot_reward))\n",
    "    #print('position=', obs['position'], 'direction=', obs['direction'])\n",
    "    #env.render(mode='console')\n",
    "    frames.append([ax.imshow(env.render(mode='rgb_array'), animated=True)])\n",
    "    if done:\n",
    "        print(\"Game over!\", \"tot. reward=\", tot_reward)\n",
    "        break\n",
    "fig.subplots_adjust(left=0, bottom=0, right=1, top=1, wspace=None, hspace=None) #to remove white bounding box \n",
    "anim = animation.ArtistAnimation(fig, frames, interval=int(1000/fps), blit=True,repeat_delay=1000)\n",
    "anim.save(\"snake_best.gif\",dpi=150)"
   ]
  },
  {
   "cell_type": "code",
   "execution_count": null,
   "id": "c0ab930c",
   "metadata": {},
   "outputs": [],
   "source": []
  },
  {
   "cell_type": "code",
   "execution_count": null,
   "id": "9882492f",
   "metadata": {},
   "outputs": [],
   "source": []
  }
 ],
 "metadata": {
  "kernelspec": {
   "display_name": "Python 3.9.7 ('base')",
   "language": "python",
   "name": "python3"
  },
  "language_info": {
   "codemirror_mode": {
    "name": "ipython",
    "version": 3
   },
   "file_extension": ".py",
   "mimetype": "text/x-python",
   "name": "python",
   "nbconvert_exporter": "python",
   "pygments_lexer": "ipython3",
   "version": "3.9.7"
  },
  "vscode": {
   "interpreter": {
    "hash": "2c72b61a49f398de248f9e6316e9598ae6b048b292b2543654acc244b5bc4672"
   }
  }
 },
 "nbformat": 4,
 "nbformat_minor": 5
}
